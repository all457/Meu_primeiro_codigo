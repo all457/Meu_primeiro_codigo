{
  "nbformat": 4,
  "nbformat_minor": 0,
  "metadata": {
    "colab": {
      "name": "Teste.ipynb",
      "provenance": [],
      "authorship_tag": "ABX9TyMkHhMaJH1xzbW4jRwXPKUP",
      "include_colab_link": true
    },
    "kernelspec": {
      "name": "python3",
      "display_name": "Python 3"
    }
  },
  "cells": [
    {
      "cell_type": "markdown",
      "metadata": {
        "id": "view-in-github",
        "colab_type": "text"
      },
      "source": [
        "<a href=\"https://colab.research.google.com/github/all457/Meu_primeiro_codigo/blob/main/Teste.ipynb\" target=\"_parent\"><img src=\"https://colab.research.google.com/assets/colab-badge.svg\" alt=\"Open In Colab\"/></a>"
      ]
    },
    {
      "cell_type": "markdown",
      "metadata": {
        "id": "EN4YynqwHXO8"
      },
      "source": [
        "# Meu primeiro codigo"
      ]
    },
    {
      "cell_type": "code",
      "metadata": {
        "id": "SMkq-woR8bdy"
      },
      "source": [
        "variavel = \"Hello word\""
      ],
      "execution_count": 1,
      "outputs": []
    },
    {
      "cell_type": "code",
      "metadata": {
        "colab": {
          "base_uri": "https://localhost:8080/"
        },
        "id": "WV5t5Pap8tbp",
        "outputId": "117b2ac0-373d-401a-f530-f54695effc2d"
      },
      "source": [
        "print(\"ola mundo\")"
      ],
      "execution_count": 3,
      "outputs": [
        {
          "output_type": "stream",
          "text": [
            "ola mundo\n"
          ],
          "name": "stdout"
        }
      ]
    },
    {
      "cell_type": "markdown",
      "metadata": {
        "id": "3Y87jff796-h"
      },
      "source": [
        "Verificando se e par ou impar"
      ]
    },
    {
      "cell_type": "code",
      "metadata": {
        "id": "l3YvS2slFPmA"
      },
      "source": [
        "varivel = \"vinicius\" # tipo de variavel string \r\n",
        "variavel_numerica = 10 # tipo int\r\n",
        "variavel_numerica1 = 1.5 # tipo float\r\n",
        "\r\n",
        "variavel_booleana = True # ou Flase"
      ],
      "execution_count": null,
      "outputs": []
    },
    {
      "cell_type": "code",
      "metadata": {
        "colab": {
          "base_uri": "https://localhost:8080/"
        },
        "id": "H3HGhJWl83hI",
        "outputId": "050cdeab-06e5-460f-f4c8-e0c9828049ef"
      },
      "source": [
        "for i in range(0,11):\r\n",
        "  num = i%2\r\n",
        "  if (num == 0):\r\n",
        "    print(\"Esses numero {} é par\".format(i))\r\n",
        "  else:\r\n",
        "    print(\"Esse numero {} é impar\".format(i))"
      ],
      "execution_count": 11,
      "outputs": [
        {
          "output_type": "stream",
          "text": [
            "Esses numero 0 é par\n",
            "Esse numero 1 é impar\n",
            "Esses numero 2 é par\n",
            "Esse numero 3 é impar\n",
            "Esses numero 4 é par\n",
            "Esse numero 5 é impar\n",
            "Esses numero 6 é par\n",
            "Esse numero 7 é impar\n",
            "Esses numero 8 é par\n",
            "Esse numero 9 é impar\n",
            "Esses numero 10 é par\n"
          ],
          "name": "stdout"
        }
      ]
    },
    {
      "cell_type": "code",
      "metadata": {
        "id": "VybPEnRDEyg1"
      },
      "source": [
        ""
      ],
      "execution_count": null,
      "outputs": []
    },
    {
      "cell_type": "code",
      "metadata": {
        "id": "2B0nTDSG8_px"
      },
      "source": [
        ""
      ],
      "execution_count": null,
      "outputs": []
    }
  ]
}